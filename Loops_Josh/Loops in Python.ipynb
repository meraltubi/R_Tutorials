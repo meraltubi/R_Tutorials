{
 "cells": [
  {
   "cell_type": "code",
   "execution_count": null,
   "id": "0272d5c6",
   "metadata": {},
   "outputs": [],
   "source": [
    "import pandas as pd\n",
    "import numpy as np"
   ]
  },
  {
   "cell_type": "code",
   "execution_count": null,
   "id": "411aa1dc",
   "metadata": {},
   "outputs": [],
   "source": [
    "df = pd.read_csv('/Users/joshualiu/Downloads/WHIMS_CorticalMeasures_ThickAvg_MICED - Sheet1.csv')\n",
    "df['Sex'] = df['Subject_ID'].apply(lambda x: 'F' if int(str(x)[0]) % 2 == 0 else 'M')\n",
    "df"
   ]
  },
  {
   "cell_type": "markdown",
   "id": "0d78dcfd",
   "metadata": {},
   "source": [
    "###### For Loops"
   ]
  },
  {
   "cell_type": "code",
   "execution_count": null,
   "id": "ff05eeed",
   "metadata": {},
   "outputs": [],
   "source": [
    "for code in df.Subject_ID:\n",
    "    print(code)"
   ]
  },
  {
   "cell_type": "code",
   "execution_count": null,
   "id": "2306592d",
   "metadata": {},
   "outputs": [],
   "source": [
    "for column in df.columns:\n",
    "    print(column)"
   ]
  },
  {
   "cell_type": "code",
   "execution_count": null,
   "id": "4b24720b",
   "metadata": {},
   "outputs": [],
   "source": [
    "for idx, row in df.iterrows():\n",
    "    print(row)"
   ]
  },
  {
   "cell_type": "code",
   "execution_count": null,
   "id": "85a49fc4",
   "metadata": {},
   "outputs": [],
   "source": [
    "for idx,row in df.iterrows():\n",
    "    if row.L_bankssts_thickavg < 1.6:\n",
    "        print(\"ID: {} Thick value: {}\".format(row.Subject_ID,row.L_bankssts_thickavg))"
   ]
  },
  {
   "cell_type": "code",
   "execution_count": null,
   "id": "00dd23e1",
   "metadata": {},
   "outputs": [],
   "source": [
    "rois = ['bankssts','caudalanteriorcingulate','caudalmiddlefrontal']\n",
    "df['left_roi_sum'] = 0\n",
    "for roi in rois:\n",
    "    left = 'L_'+roi+'_thickavg'\n",
    "    df.left_roi_sum += df[left]\n",
    "df.left_roi_sum\n",
    "    "
   ]
  },
  {
   "cell_type": "markdown",
   "id": "0e666507",
   "metadata": {},
   "source": [
    "###### While Loops"
   ]
  },
  {
   "cell_type": "code",
   "execution_count": null,
   "id": "e9d5af12",
   "metadata": {},
   "outputs": [],
   "source": [
    "df = df.sort_values(by='left_roi_sum',ascending=True)\n",
    "df = df.reset_index().drop('index',axis=1)\n",
    "df"
   ]
  },
  {
   "cell_type": "code",
   "execution_count": null,
   "id": "c5a736ec",
   "metadata": {},
   "outputs": [],
   "source": [
    "counter = 0\n",
    "while counter < len(df):\n",
    "    value = df.loc[df.index[counter], 'left_roi_sum']\n",
    "    if value < 4.9:\n",
    "        print(df.loc[df.index[counter], 'Subject_ID'], value)\n",
    "    counter += 1"
   ]
  },
  {
   "cell_type": "code",
   "execution_count": null,
   "id": "50178c74",
   "metadata": {},
   "outputs": [],
   "source": [
    "for idx,row in df.iterrows():\n",
    "    if row.left_roi_sum < 4.9:\n",
    "        print(row.Subject_ID,row.left_roi_sum)"
   ]
  },
  {
   "cell_type": "markdown",
   "id": "9be08cb0",
   "metadata": {},
   "source": [
    "###### lambda Functions"
   ]
  },
  {
   "cell_type": "code",
   "execution_count": null,
   "id": "9d3ebbd7",
   "metadata": {},
   "outputs": [],
   "source": [
    "print(df.Sex)\n",
    "print(df.Sex.value_counts())"
   ]
  },
  {
   "cell_type": "code",
   "execution_count": null,
   "id": "d16dab78",
   "metadata": {},
   "outputs": [],
   "source": [
    "df.Sex = df.Sex.apply(lambda x: 0 if x=='M' else 1)\n",
    "df"
   ]
  },
  {
   "cell_type": "markdown",
   "id": "084d5209",
   "metadata": {},
   "source": [
    "###### loop example"
   ]
  },
  {
   "cell_type": "code",
   "execution_count": null,
   "id": "a5e4ccd1",
   "metadata": {},
   "outputs": [],
   "source": []
  }
 ],
 "metadata": {
  "kernelspec": {
   "display_name": "Python 3 (ipykernel)",
   "language": "python",
   "name": "python3"
  },
  "language_info": {
   "codemirror_mode": {
    "name": "ipython",
    "version": 3
   },
   "file_extension": ".py",
   "mimetype": "text/x-python",
   "name": "python",
   "nbconvert_exporter": "python",
   "pygments_lexer": "ipython3",
   "version": "3.9.13"
  }
 },
 "nbformat": 4,
 "nbformat_minor": 5
}
